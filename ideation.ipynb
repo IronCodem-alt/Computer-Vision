{
 "cells": [
  {
   "cell_type": "code",
   "execution_count": null,
   "metadata": {},
   "outputs": [],
   "source": [
    "# Installing Tensorflow\n",
    "! [ -e /content ] && pip install tensorflow\n",
    "import fastbook\n",
    "fastbook.setup_book()"
   ]
  },
