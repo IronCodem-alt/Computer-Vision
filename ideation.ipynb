{
  "cells": [
    {
      "cell_type": "markdown",
      "metadata": {
        "id": "Bp8t2AI8i7uP"
      },
      "source": [
        "## ## Hello!\n"
        "### Welcome to my Bootcamp Ideation - Computer Vision Project!\n"
        "I will be working with Tensorflow for the duration of this project."
      ]
    },
}
